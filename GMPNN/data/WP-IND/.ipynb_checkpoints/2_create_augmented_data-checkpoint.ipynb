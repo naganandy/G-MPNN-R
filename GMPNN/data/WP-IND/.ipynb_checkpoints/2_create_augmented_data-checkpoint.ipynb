{
 "cells": [
  {
   "cell_type": "markdown",
   "metadata": {},
   "source": [
    "# get current directory"
   ]
  },
  {
   "cell_type": "code",
   "execution_count": 1,
   "metadata": {},
   "outputs": [],
   "source": [
    "import os, inspect\n",
    "current = os.path.dirname(os.path.abspath(inspect.getfile(inspect.currentframe())))\n",
    "name, direc = os.path.basename(current), os.path.dirname(current)"
   ]
  },
  {
   "cell_type": "markdown",
   "metadata": {},
   "source": [
    "# create directory with augemented data"
   ]
  },
  {
   "cell_type": "code",
   "execution_count": 2,
   "metadata": {},
   "outputs": [],
   "source": [
    "from shutil import copyfile\n",
    "folder = os.path.join(direc, name + \"_aug\")\n",
    "if not os.path.exists(folder): os.makedirs(folder)"
   ]
  },
  {
   "cell_type": "markdown",
   "metadata": {},
   "source": [
    "# copy valid split"
   ]
  },
  {
   "cell_type": "code",
   "execution_count": 3,
   "metadata": {},
   "outputs": [
    {
     "data": {
      "text/plain": [
       "'/scratche/prod/ynaganand/25_gmpnnr/proper/data/wp_aug/valid.txt'"
      ]
     },
     "execution_count": 3,
     "metadata": {},
     "output_type": "execute_result"
    }
   ],
   "source": [
    "src = os.path.join(current, \"valid.txt\")\n",
    "dst = os.path.join(folder, \"valid.txt\")\n",
    "copyfile(src, dst)"
   ]
  },
  {
   "cell_type": "markdown",
   "metadata": {},
   "source": [
    "# copy test split"
   ]
  },
  {
   "cell_type": "code",
   "execution_count": 4,
   "metadata": {},
   "outputs": [
    {
     "data": {
      "text/plain": [
       "'/scratche/prod/ynaganand/25_gmpnnr/proper/data/wp_aug/test.txt'"
      ]
     },
     "execution_count": 4,
     "metadata": {},
     "output_type": "execute_result"
    }
   ],
   "source": [
    "src = os.path.join(current, \"test.txt\")\n",
    "dst = os.path.join(folder, \"test.txt\")\n",
    "copyfile(src, dst)"
   ]
  },
  {
   "cell_type": "markdown",
   "metadata": {},
   "source": [
    "# copy vertex features"
   ]
  },
  {
   "cell_type": "code",
   "execution_count": 5,
   "metadata": {},
   "outputs": [
    {
     "data": {
      "text/plain": [
       "'/scratche/prod/ynaganand/25_gmpnnr/proper/data/wp_aug/X.txt'"
      ]
     },
     "execution_count": 5,
     "metadata": {},
     "output_type": "execute_result"
    }
   ],
   "source": [
    "src = os.path.join(current, \"X.txt\")\n",
    "dst = os.path.join(folder, \"X.txt\")\n",
    "copyfile(src, dst)"
   ]
  },
  {
   "cell_type": "markdown",
   "metadata": {},
   "source": [
    "# copy unseen entities"
   ]
  },
  {
   "cell_type": "code",
   "execution_count": 6,
   "metadata": {},
   "outputs": [
    {
     "data": {
      "text/plain": [
       "'/scratche/prod/ynaganand/25_gmpnnr/proper/data/wp_aug/unseen.txt'"
      ]
     },
     "execution_count": 6,
     "metadata": {},
     "output_type": "execute_result"
    }
   ],
   "source": [
    "src = os.path.join(current, \"unseen.txt\")\n",
    "dst = os.path.join(folder, \"unseen.txt\")\n",
    "copyfile(src, dst)"
   ]
  },
  {
   "cell_type": "markdown",
   "metadata": {},
   "source": [
    "# copy entities"
   ]
  },
  {
   "cell_type": "code",
   "execution_count": 7,
   "metadata": {},
   "outputs": [
    {
     "data": {
      "text/plain": [
       "'/scratche/prod/ynaganand/25_gmpnnr/proper/data/wp_aug/entities.txt'"
      ]
     },
     "execution_count": 7,
     "metadata": {},
     "output_type": "execute_result"
    }
   ],
   "source": [
    "src = os.path.join(current, \"entities.txt\")\n",
    "dst = os.path.join(folder, \"entities.txt\")\n",
    "copyfile(src, dst)"
   ]
  },
  {
   "cell_type": "markdown",
   "metadata": {},
   "source": [
    "# load raw relations"
   ]
  },
  {
   "cell_type": "code",
   "execution_count": 8,
   "metadata": {},
   "outputs": [],
   "source": [
    "i2r, r2i, I2R, R2I = {}, {}, {}, {}\n",
    "with open(\"relations.txt\") as f: \n",
    "    for line in f.readlines():\n",
    "        i, r = line.split()\n",
    "        i, r = str(i.strip()), r.strip()\n",
    "        i2r[i], r2i[r] = r, i\n",
    "I2R, R2I = i2r.copy(), r2i.copy()"
   ]
  },
  {
   "cell_type": "markdown",
   "metadata": {},
   "source": [
    "# augemnt tuples with all permuted tuples"
   ]
  },
  {
   "cell_type": "code",
   "execution_count": 9,
   "metadata": {},
   "outputs": [],
   "source": [
    "import itertools\n",
    "def augment(file):\n",
    "    T = []\n",
    "    with open(os.path.join(current, file + \".txt\")) as f: \n",
    "        lines = f.readlines()\n",
    "        R = set()\n",
    "        for line in lines:\n",
    "            R.add(line.split()[0])\n",
    "            line = line.split()\n",
    "            line = tuple([x.strip() for x in line])\n",
    "            T.append(line)\n",
    "        T = list(set(T))\n",
    "\n",
    "    aT = []\n",
    "    for t in T:\n",
    "        t = tuple(t)\n",
    "        aT.append(t)\n",
    "        rel = i2r[t[0]].split(\"_\")\n",
    "        Map = {}\n",
    "        Tup = tuple(t[1:])\n",
    "        for i, v in enumerate(Tup): Map[v] = i\n",
    "        for tup in list(itertools.permutations(list(t[1:]))):\n",
    "            values = list(set(I2R.values()))\n",
    "            if not t[1:] == tup:\n",
    "                ra = [rel[Map[v]] for v in tup]\n",
    "                rau = ra[0]\n",
    "                for r in ra[1:]: rau = rau + \"_\" + r\n",
    "                if rau not in values: \n",
    "                    I2R[len(I2R)] = rau\n",
    "                    R2I[rau] = len(I2R) - 1\n",
    "                at = [R2I[rau]]\n",
    "                for x in tup: at.append(x)\n",
    "                aT.append(tuple(at))\n",
    "    return aT, I2R, R2I"
   ]
  },
  {
   "cell_type": "markdown",
   "metadata": {},
   "source": [
    "# augment train split"
   ]
  },
  {
   "cell_type": "code",
   "execution_count": 10,
   "metadata": {},
   "outputs": [],
   "source": [
    "from random import shuffle\n",
    "aT, I2R, R2I = augment(\"train\")\n",
    "shuffle(aT)\n",
    "with open(os.path.join(folder, \"train.txt\"), \"w\") as f:\n",
    "    for t in aT:\n",
    "        f.write(str(t[0]))\n",
    "        for x in t[1:]: f.write(\"\\t\" + str(x))\n",
    "        f.write(\"\\n\")"
   ]
  },
  {
   "cell_type": "markdown",
   "metadata": {},
   "source": [
    "# augmente aux split"
   ]
  },
  {
   "cell_type": "code",
   "execution_count": 11,
   "metadata": {},
   "outputs": [],
   "source": [
    "aT, I2R, R2I = augment(\"aux\")\n",
    "shuffle(aT)\n",
    "with open(os.path.join(folder, \"aux.txt\"), \"w\") as f:\n",
    "    for t in aT:\n",
    "        f.write(str(t[0]))\n",
    "        for x in t[1:]: f.write(\"\\t\" + str(x))\n",
    "        f.write(\"\\n\")"
   ]
  },
  {
   "cell_type": "markdown",
   "metadata": {},
   "source": [
    "# store relations"
   ]
  },
  {
   "cell_type": "code",
   "execution_count": 12,
   "metadata": {},
   "outputs": [],
   "source": [
    "with open(os.path.join(folder, \"relations.txt\"), \"w\") as f:\n",
    "    for i in I2R: f.write(str(i) + \"\\t\" + I2R[i] + \"\\n\")"
   ]
  },
  {
   "cell_type": "code",
   "execution_count": null,
   "metadata": {},
   "outputs": [],
   "source": []
  }
 ],
 "metadata": {
  "kernelspec": {
   "display_name": "Python [conda root]",
   "language": "python",
   "name": "conda-root-py"
  },
  "language_info": {
   "codemirror_mode": {
    "name": "ipython",
    "version": 3
   },
   "file_extension": ".py",
   "mimetype": "text/x-python",
   "name": "python",
   "nbconvert_exporter": "python",
   "pygments_lexer": "ipython3",
   "version": "3.6.8"
  }
 },
 "nbformat": 4,
 "nbformat_minor": 2
}

{
 "cells": [
  {
   "cell_type": "markdown",
   "metadata": {},
   "source": [
    "# load relations"
   ]
  },
  {
   "cell_type": "code",
   "execution_count": 1,
   "metadata": {},
   "outputs": [],
   "source": [
    "i2r, D, iD = {}, {}, {}\n",
    "with open(\"relations.txt\", \"r\") as f: lines = f.readlines()\n",
    "for line in lines:\n",
    "    S = line.split(\"\\t\")\n",
    "    i, r = S[0].strip(), S[1].strip().split(\"_\")\n",
    "    i2r[i] = r\n",
    "    for w in r: \n",
    "        if w not in D: D[w] = len(D)\n",
    "for w in D: iD[D[w]] = w"
   ]
  },
  {
   "cell_type": "markdown",
   "metadata": {},
   "source": [
    "# load splits"
   ]
  },
  {
   "cell_type": "code",
   "execution_count": 2,
   "metadata": {},
   "outputs": [],
   "source": [
    "with open(\"train.txt\") as f: lines = f.readlines()\n",
    "with open(\"valid.txt\") as f: lines += f.readlines()\n",
    "with open(\"aux.txt\") as f: lines += f.readlines()\n",
    "with open(\"test.txt\") as f: lines += f.readlines()"
   ]
  },
  {
   "cell_type": "markdown",
   "metadata": {},
   "source": [
    "# assign features"
   ]
  },
  {
   "cell_type": "code",
   "execution_count": 3,
   "metadata": {},
   "outputs": [],
   "source": [
    "v2x = {}\n",
    "for line in lines:\n",
    "    split = line.split(\"\\t\")\n",
    "    R = i2r[split[0].strip()]\n",
    "    for i, v in enumerate(split[1:]): \n",
    "        if v not in v2x: v2x[v] = [0]*len(D)\n",
    "        v2x[v][int(D[R[i]])] = 1"
   ]
  },
  {
   "cell_type": "markdown",
   "metadata": {},
   "source": [
    "# store features"
   ]
  },
  {
   "cell_type": "code",
   "execution_count": 14,
   "metadata": {},
   "outputs": [],
   "source": [
    "with open(\"X.txt\", \"w\") as f:\n",
    "    for v in v2x: \n",
    "        f.write(str(v) + \"\\t\")\n",
    "        for i, x in enumerate(v2x):\n",
    "            if x == 1: f.write(str(i) + \"\\t\")\n",
    "        f.write(\"\\n\")"
   ]
  },
  {
   "cell_type": "markdown",
   "metadata": {},
   "source": [
    "# load vertex to id"
   ]
  },
  {
   "cell_type": "code",
   "execution_count": 4,
   "metadata": {},
   "outputs": [],
   "source": [
    "import pickle5 as pickle\n",
    "with open('maps_sample.pkl', 'rb') as h: M = pickle.load(h)\n",
    "i2v = M['i2e']"
   ]
  },
  {
   "cell_type": "markdown",
   "metadata": {},
   "source": [
    "# check sanity"
   ]
  },
  {
   "cell_type": "code",
   "execution_count": 10,
   "metadata": {},
   "outputs": [],
   "source": [
    "for v in v2x:\n",
    "    if sum(v2x[v]) == 0: print(v)"
   ]
  },
  {
   "cell_type": "code",
   "execution_count": 6,
   "metadata": {},
   "outputs": [
    {
     "data": {
      "text/plain": [
       "{'Acquisition': 11,\n",
       " 'Award': 17,\n",
       " 'Awardee': 28,\n",
       " 'Birthplace': 22,\n",
       " 'Co-winner': 30,\n",
       " 'Conferrer': 29,\n",
       " 'Country': 8,\n",
       " 'Deceased': 6,\n",
       " 'Degree': 31,\n",
       " 'Electorate': 36,\n",
       " 'Event': 19,\n",
       " 'Kinship': 5,\n",
       " 'Major': 27,\n",
       " 'Member': 0,\n",
       " 'Membership': 1,\n",
       " 'Nominee': 16,\n",
       " 'Object': 20,\n",
       " 'Part': 35,\n",
       " 'Participant': 32,\n",
       " 'Person': 3,\n",
       " 'Place': 7,\n",
       " 'Player': 9,\n",
       " 'Politician': 13,\n",
       " 'Position': 14,\n",
       " 'Predecessor': 23,\n",
       " 'Relative': 21,\n",
       " 'Role': 2,\n",
       " 'Sibling': 4,\n",
       " 'Specialty': 34,\n",
       " 'Status': 33,\n",
       " 'Student': 25,\n",
       " 'Successor': 24,\n",
       " 'Team': 10,\n",
       " 'Term': 15,\n",
       " 'Territory': 12,\n",
       " 'University': 26,\n",
       " 'Work': 18}"
      ]
     },
     "execution_count": 6,
     "metadata": {},
     "output_type": "execute_result"
    }
   ],
   "source": [
    "D"
   ]
  },
  {
   "cell_type": "code",
   "execution_count": null,
   "metadata": {},
   "outputs": [],
   "source": []
  }
 ],
 "metadata": {
  "kernelspec": {
   "display_name": "Python [default]",
   "language": "python",
   "name": "python3"
  },
  "language_info": {
   "codemirror_mode": {
    "name": "ipython",
    "version": 3
   },
   "file_extension": ".py",
   "mimetype": "text/x-python",
   "name": "python",
   "nbconvert_exporter": "python",
   "pygments_lexer": "ipython3",
   "version": "3.6.8"
  }
 },
 "nbformat": 4,
 "nbformat_minor": 2
}
